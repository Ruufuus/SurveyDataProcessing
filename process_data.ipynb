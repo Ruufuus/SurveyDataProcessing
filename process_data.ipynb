{
 "cells": [
  {
   "cell_type": "code",
   "execution_count": 25,
   "metadata": {},
   "outputs": [],
   "source": [
    "import numpy as np\n",
    "import pandas \n",
    "from os import listdir\n",
    "from os.path import isfile, join"
   ]
  },
  {
   "cell_type": "code",
   "execution_count": 26,
   "metadata": {},
   "outputs": [],
   "source": [
    "gamer = [4, 5]\n",
    "non_gamer = [1, 2, 3]"
   ]
  },
  {
   "cell_type": "code",
   "execution_count": 27,
   "metadata": {},
   "outputs": [],
   "source": [
    "data_files_path = \"./data/\"\n",
    "information_file_name = \"data.csv\"\n",
    "data_files = [f for f in listdir(data_files_path) if isfile(join(data_files_path, f))]"
   ]
  },
  {
   "cell_type": "code",
   "execution_count": 28,
   "metadata": {},
   "outputs": [
    {
     "name": "stdout",
     "output_type": "stream",
     "text": [
      "Attention test file count: 231\n",
      "N-Back test file count: 241\n",
      "Stroop test file count: 268\n"
     ]
    }
   ],
   "source": [
    "attention_test_files = [file for file in data_files if file.lower().startswith(\"attention\")]\n",
    "n_back_test_files = [file for file in data_files if file.lower().startswith(\"n\")]\n",
    "stroop_test_files = [file for file in data_files if file.lower().startswith(\"stroop\")]\n",
    "print(\"Attention test file count: {}\".format(len(attention_test_files)))\n",
    "print(\"N-Back test file count: {}\".format(len(n_back_test_files)))\n",
    "print(\"Stroop test file count: {}\".format(len(stroop_test_files)))"
   ]
  },
  {
   "cell_type": "code",
   "execution_count": 29,
   "metadata": {},
   "outputs": [
    {
     "data": {
      "text/plain": [
       "Index(['participant', 'Gracz_czy_niegracz:1', 'Typologia1:1', 'Typologia1:2',\n",
       "       'Typologia1:3', 'Typologia1:4', 'Typologia1:5', 'Typologia1:6',\n",
       "       'Typologia1:7', 'Typologia1:8', 'Typologia1:9', 'Typologia1:10',\n",
       "       'Typologia1:11', 'Typologia1:12', 'Typologia1:13', 'Typologia1:14',\n",
       "       'Typologia1:15', 'Typologia1:16', 'Typologia1:17', 'Typologia1:18',\n",
       "       'experyment1:1', 'experyment2:1', 'experyment3:1', 'TIME_start',\n",
       "       'TIME_end', 'TIME_total'],\n",
       "      dtype='object')"
      ]
     },
     "execution_count": 29,
     "metadata": {},
     "output_type": "execute_result"
    }
   ],
   "source": [
    "file = pandas.read_csv(information_file_name, delimiter=\";\")\n",
    "file.columns"
   ]
  },
  {
   "cell_type": "code",
   "execution_count": 30,
   "metadata": {},
   "outputs": [
    {
     "name": "stdout",
     "output_type": "stream",
     "text": [
      "Number of correct records: 284\n",
      "Number of rows in players_types_data.csv: 284\n"
     ]
    }
   ],
   "source": [
    "#Filtrowanie rekordów bez wszystkich testów i bez typologii. TLDR mają mieć typologię lub wszystkie testy\n",
    "filtered_file = file[\\\n",
    "    ((~file[\"experyment1:1\"].isnull()) & (~file[\"experyment2:1\"].isnull()) & (~file[\"experyment3:1\"].isnull()) \\\n",
    "    |  (~file[\"Typologia1:1\"].isnull()))]\n",
    "print(\"Number of correct records: {}\".format(len(filtered_file)))\n",
    "\n",
    "players_type_data = pandas.read_csv(data_files_path + \"players_types_data.csv\", delimiter=\";\", encoding = 'unicode_escape')\n",
    "print(\"Number of rows in players_types_data.csv: {}\".format(len(players_type_data)))"
   ]
  },
  {
   "cell_type": "code",
   "execution_count": 31,
   "metadata": {},
   "outputs": [
    {
     "data": {
      "text/plain": [
       "Index(['participant', 'grupa', 'Plec:1', 'Wiek:1', 'Gracz_czy_niegracz:1',\n",
       "       'Gatunek_gry:1', 'Typologia1:1', 'Typologia1:2', 'Typologia1:3',\n",
       "       'Typologia1:4', 'Typologia1:5', 'Typologia1:6', 'Typologia1:7',\n",
       "       'Typologia1:8', 'Typologia1:9', 'Typologia1:10', 'Typologia1:11',\n",
       "       'Typologia1:12', 'Typologia1:13', 'Typologia1:14', 'Typologia1:15',\n",
       "       'Typologia1:16', 'Typologia1:17', 'Typologia1:18', 'SPO£ECZNIK',\n",
       "       'ODKRYWCA', 'ZDOBYWCA', 'ZABÓJCA', 'TYP GRACZA'],\n",
       "      dtype='object')"
      ]
     },
     "execution_count": 31,
     "metadata": {},
     "output_type": "execute_result"
    }
   ],
   "source": [
    "players_type_data.columns"
   ]
  },
  {
   "cell_type": "code",
   "execution_count": 32,
   "metadata": {},
   "outputs": [],
   "source": [
    "class Player:\n",
    "    def __init__(self, id, if_gamer, stroop_test_filename, n_back_test_filename, attention_test_filename):\n",
    "        self.test_result = {}\n",
    "\n",
    "        self.test_result[\"id\"] = id\n",
    "        self.test_result[\"gender\"] = None\n",
    "        self.test_result[\"if_gamer\"] = 1 if if_gamer else 0\n",
    "        self.test_result[\"game_genres\"] = None\n",
    "        self.test_result[\"typology\"] = []\n",
    "        self.test_result[\"player_type_values\"] = []\n",
    "        self.test_result[\"player_type\"] = \"\"\n",
    "        self.test_result[\"stroop_reaction_prcnt\"] = None\n",
    "        self.test_result[\"stroop_reaction_time_avg\"] = None\n",
    "        self.test_result[\"stroop_reaction_compatible_prcnt\"] = None\n",
    "        self.test_result[\"stroop_reaction_time_compatible_avg\"] = None\n",
    "        self.test_result[\"stroop_reaction_incompatible_prcnt\"] = None\n",
    "        self.test_result[\"stroop_reaction_time_incompatible_avg\"] = None\n",
    "        self.test_result[\"n_back_reaction_avg\"] = None\n",
    "        self.test_result[\"n_back_reaction_time_avg\"] = None  \n",
    "        self.test_result[\"n_back_match_percentage\"] = None \n",
    "        self.test_result[\"n_back_miss_percentage\"] = None \n",
    "        self.test_result[\"n_back_false_alarm_percentage\"] = None \n",
    "        self.test_result[\"attention_reaction_time_avg\"] = [None]*5\n",
    "        self.test_result[\"attention_status_prcnt\"] = [None]*5       \n",
    "\n",
    "        self.stroop_test_filename = stroop_test_filename\n",
    "        self.n_back_test_filename = n_back_test_filename\n",
    "        self.attention_test_filename = attention_test_filename \n",
    "\n",
    "        self.n_back_test_result()\n",
    "        self.stroop_test_result()\n",
    "        self.attention_test_result()\n",
    "\n",
    "    def show_tests_results(self):\n",
    "        print(\"Czy jest graczem: {}\".format(self.test_result[\"if_gamer\"]))\n",
    "        print(\"Płeć: {}\".format(self.test_result[\"gender\"]))\n",
    "        print(\"Typy gier: {}\".format(self.test_result[\"game_genres\"]))\n",
    "        print(\"Identyfikator osoby: {}\".format(self.test_result[\"id\"]))\n",
    "        print(\"Typologia osoby: {}\".format(self.test_result[\"typology\"]))\n",
    "        print(\"Wartości dla poszczególnych typów: {}\".format(self.test_result[\"player_type_values\"]))\n",
    "        print(\"Typ gracza: {}\".format(self.test_result[\"player_type\"]))\n",
    "        if(self.test_result[\"n_back_reaction_time_avg\"] != None):\n",
    "            print(\"-*-\"*20 + \"\\nn_back test:\")\n",
    "            print((\"Średni adekwatność reakcji: {}\\nŚredni czas reakcji: {}\\n\" \\\n",
    "                + \"Procent dopasowanych: {}%\\nProcent nietrafionych: {}%\\nProcent fałszywie zgłoszonych: {}%\")\\\n",
    "                .format(self.test_result[\"n_back_reaction_avg\"], self.test_result[\"n_back_reaction_time_avg\"],\\\n",
    "                     self.test_result[\"n_back_match_percentage\"] * 100, self.test_result[\"n_back_miss_percentage\"] * 100, self.test_result[\"n_back_false_alarm_percentage\"] * 100))\n",
    "        if(self.test_result[\"stroop_reaction_compatible_prcnt\"] != None):\n",
    "            print(\"-*-\"*20 + \"\\nstroop test:\")\n",
    "            print((\"Wszystkie próby:\\n\\tŚrednia adekwatność reakcji: {}\\n\\tŚredni Czas reakcji: {}\\n\" \\\n",
    "                + \"Próby zgodne:\\n\\tŚrednia adekwatność reakcji: {}\\n\\tŚredni Czas reakcji: {}\\n\" \\\n",
    "                    + \"Próby niezgodne:\\n\\tŚrednia adekwatność reakcji: {}\\n\\tŚredni czas reakcji: {}\")\\\n",
    "                .format(\\\n",
    "            self.test_result[\"stroop_reaction_prcnt\"] * 100, self.test_result[\"stroop_reaction_time_avg\"],\\\n",
    "                self.test_result[\"stroop_reaction_compatible_prcnt\"] * 100, self.test_result[\"stroop_reaction_time_compatible_avg\"],\\\n",
    "                     self.test_result[\"stroop_reaction_incompatible_prcnt\"] * 100, self.test_result[\"stroop_reaction_time_incompatible_avg\"]))\n",
    "        if(self.test_result[\"attention_reaction_time_avg\"] != None):\n",
    "            print(\"-*-\"*20 + \"\\nattention test:\")\n",
    "            print([touple for touple in zip(self.test_result[\"attention_reaction_time_avg\"],\\\n",
    "                 [prcnt * 100 for prcnt in self.test_result[\"attention_status_prcnt\"]])])\n",
    "            print((\"Ogólny wynik:\\n\\tŚredni czas reakcji: {}\\n\\tŚredni rezultat reakcji: {}\\n\" \\\n",
    "                + \"Wynik przy 5 dystraktorach:\\n\\tŚredni czas reakcji: {}\\n\\tŚredni rezultat reakcji: {}\\n\" \\\n",
    "                    + \"Wynik przy 10 dystraktorach:\\n\\tŚredni czas reakcji: {}\\n\\tProcentowy rezultat reakcji: {}\\n\" \\\n",
    "                        + \"Wynik przy 15 dystraktorach:\\n\\tŚredni czas reakcji: {}\\n\\tProcentowy rezultat reakcji: {}\\n\" \\\n",
    "                            + \"Wynik przy 20 dystraktorach:\\n\\tŚredni czas reakcji: {}\\n\\tProcentowy rezultat reakcji: {}\")\\\n",
    "                                .format(self.test_result[\"attention_reaction_time_avg\"][0], self.test_result[\"attention_status_prcnt\"][0] * 100,\\\n",
    "                    self.test_result[\"attention_reaction_time_avg\"][1], self.test_result[\"attention_status_prcnt\"][1] * 100,\\\n",
    "                    self.test_result[\"attention_reaction_time_avg\"][2], self.test_result[\"attention_status_prcnt\"][2] * 100,\\\n",
    "                    self.test_result[\"attention_reaction_time_avg\"][3], self.test_result[\"attention_status_prcnt\"][3] * 100,\\\n",
    "                    self.test_result[\"attention_reaction_time_avg\"][4], self.test_result[\"attention_status_prcnt\"][4] * 100))\n",
    "\n",
    "    def get_results(self):\n",
    "        return self.test_result\n",
    "\n",
    "    def n_back_test_result(self):\n",
    "        if type(self.n_back_test_filename) == str:\n",
    "            results = pandas.read_csv(data_files_path + self.n_back_test_filename, delim_whitespace=True,\\\n",
    "                 names=[\"block_number\", \"trial_number\", \"trial_type\", \\\n",
    "                     \"score\", \"match\", \"miss\", \"false_alarm\", \"reaction_time\", \"memory\", \"current_letter\", \"nback1\", \"nback2\"])\n",
    "            \n",
    "            self.test_result[\"n_back_reaction_avg\"] = max(-1, results[\"score\"].mean())\n",
    "            self.test_result[\"n_back_match_percentage\"] =\\\n",
    "                 len(results[results[\"match\"] == 1])/(len(results[results[\"match\"] == 0]) + len(results[results[\"match\"] == 1]))\n",
    "            self.test_result[\"n_back_miss_percentage\"] =\\\n",
    "                 len(results[results[\"miss\"] == 1])/(len(results[results[\"miss\"] == 0]) + len(results[results[\"miss\"] == 1]))\n",
    "            self.test_result[\"n_back_false_alarm_percentage\"] =\\\n",
    "                 len(results[results[\"false_alarm\"] == 1])/(len(results[results[\"false_alarm\"] == 0]) + len(results[results[\"false_alarm\"] == 1]))\n",
    "            self.test_result[\"n_back_reaction_time_avg\"] = max(-1, results[results[\"match\"] == 1][\"reaction_time\"].mean())\n",
    "            \n",
    "    def stroop_test_result(self):\n",
    "        if type(self.stroop_test_filename) == str:\n",
    "            results = pandas.read_csv(data_files_path + self.stroop_test_filename, delim_whitespace=True,\\\n",
    "                 names=[\"block_name\", \"word_name\", \"word_color\", \"color_match\", \"row_number\", \"pressed_key_number\", \"status\", \"response_time\"])\n",
    "            results = results[results[\"block_name\"] != \"training\"]\n",
    "            \n",
    "            self.test_result[\"stroop_reaction_prcnt\"] = len(results[results[\"status\"].eq(1)])/len(results)\n",
    "            self.test_result[\"stroop_reaction_time_avg\"] = max(-1, results[\"response_time\"].mean())\n",
    "            self.test_result[\"stroop_reaction_compatible_prcnt\"] = len(results[results[\"color_match\"].eq(1) & results[\"status\"].eq(1)])/\\\n",
    "                len(results[results[\"color_match\"].eq(1)])\n",
    "            self.test_result[\"stroop_reaction_incompatible_prcnt\"] = len(results[results[\"color_match\"].eq(0) & results[\"status\"].eq(1)])/\\\n",
    "                len(results[results[\"color_match\"].eq(0)])\n",
    "            self.test_result[\"stroop_reaction_time_compatible_avg\"] = max(-1, results[results[\"color_match\"] == 1][\"response_time\"].mean())\n",
    "            self.test_result[\"stroop_reaction_time_incompatible_avg\"] = max(-1, results[results[\"color_match\"] == 0][\"response_time\"].mean())\n",
    "\n",
    "    def attention_test_result(self):\n",
    "        if type(self.attention_test_filename) == str:\n",
    "            results = pandas.read_csv(data_files_path + self.attention_test_filename, delim_whitespace=True,\\\n",
    "             names=[\"block_name\", \"displayed_number\", \"distraction\", \"number_of_distractions\", \"status\", \"response_time\"])\n",
    "            results = results[results[\"block_name\"] != \"training\"]\n",
    "\n",
    "            self.test_result[\"attention_reaction_time_avg\"] = [max(-1, results[results[\"distraction\"].eq(1) & results[\"status\"].eq(1)][\"response_time\"].mean())]\n",
    "            self.test_result[\"attention_status_prcnt\"] = [len(results[(results[\"distraction\"].eq(0) & results[\"status\"].eq(3)) |\\\n",
    "                 (results[\"distraction\"].eq(1) & results[\"status\"].eq(1))])/\\\n",
    "                len(results)]\n",
    "            for i in [5, 10, 15, 20]:\n",
    "                self.test_result[\"attention_reaction_time_avg\"].append(max(-1, results[results[\"number_of_distractions\"].eq(i) & results[\"distraction\"].eq(1) & results[\"status\"].eq(1)][\"response_time\"].mean()))\n",
    "                self.test_result[\"attention_status_prcnt\"].append(len(results[results[\"number_of_distractions\"].eq(i) & \\\n",
    "                ((results[\"distraction\"].eq(0) & results[\"status\"].eq(3)) | (results[\"distraction\"].eq(1) & results[\"status\"].eq(1)))])/\\\n",
    "                len(results[results[\"number_of_distractions\"].eq(i)]))\n",
    "\n"
   ]
  },
  {
   "cell_type": "code",
   "execution_count": 33,
   "metadata": {},
   "outputs": [],
   "source": [
    "#'SPO£ECZNIK','ODKRYWCA', 'ZDOBYWCA', 'ZABÓJCA', 'TYP GRACZA'\n",
    "players = []\n",
    "player_types_column_names = [\"SPO£ECZNIK\", 'ODKRYWCA', 'ZDOBYWCA', 'ZABÓJCA']\n",
    "player_types_column_names_SV = [\"SPOLECZNIK\", 'ODKRYWCA', 'ZDOBYWCA', 'ZABOJCA']\n",
    "typology_column_names = ['Typologia1:1', 'Typologia1:2',\n",
    "       'Typologia1:3', 'Typologia1:4', 'Typologia1:5', 'Typologia1:6',\n",
    "       'Typologia1:7', 'Typologia1:8', 'Typologia1:9', 'Typologia1:10',\n",
    "       'Typologia1:11', 'Typologia1:12', 'Typologia1:13', 'Typologia1:14',\n",
    "       'Typologia1:15', 'Typologia1:16', 'Typologia1:17', 'Typologia1:18']\n",
    "for index, record in filtered_file.iterrows():\n",
    "     players.append(Player(record['participant'], record['Gracz_czy_niegracz:1'] in gamer,\\\n",
    "         record['experyment1:1'], record['experyment2:1'], record['experyment3:1']))\n",
    "     player_data = players_type_data[players_type_data[\"participant\"] == players[-1].test_result[\"id\"]]\n",
    "     players[-1].test_result[\"gender\"] = player_data[\"Plec:1\"].values[0]\n",
    "     players[-1].test_result[\"game_genres\"] = player_data[\"Gatunek_gry:1\"].values[0]\n",
    "     if(players[-1].test_result[\"if_gamer\"]):\n",
    "          player_data_type = next(player_data[player_types_column_names].iterrows())[1]\n",
    "          for id, value in enumerate(player_data_type):\n",
    "               if (value == player_data_type.max()):\n",
    "                    players[-1].test_result[\"player_type\"] += str(id+1)+\",\"\n",
    "          if(players[-1].test_result[\"player_type\"].endswith(\",\")):\n",
    "               players[-1].test_result[\"player_type\"] = players[-1].test_result[\"player_type\"][:-1] \n",
    "     else:\n",
    "          players[-1].test_result[\"player_type\"] = None\n",
    "     player_data_typology = next(player_data[typology_column_names].iterrows())[1]      \n",
    "     for value in player_data_typology:\n",
    "          if(players[-1].test_result[\"if_gamer\"]):\n",
    "               players[-1].test_result[\"typology\"].append(value)\n",
    "          else:\n",
    "               players[-1].test_result[\"typology\"].append(None)\n",
    "     player_data_type_values = next(player_data[player_types_column_names].iterrows())[1]     \n",
    "     for value in player_data_type_values:\n",
    "          if(players[-1].test_result[\"if_gamer\"]):\n",
    "               players[-1].test_result[\"player_type_values\"].append(value)\n",
    "          else:\n",
    "               players[-1].test_result[\"player_type_values\"].append(None)\n",
    "               "
   ]
  },
  {
   "cell_type": "code",
   "execution_count": 34,
   "metadata": {},
   "outputs": [],
   "source": [
    "def show_player(id, players):\n",
    "    for player in players:\n",
    "        if player.test_result[\"id\"] == id:\n",
    "            player.show_tests_results()"
   ]
  },
  {
   "cell_type": "code",
   "execution_count": 35,
   "metadata": {},
   "outputs": [
    {
     "name": "stdout",
     "output_type": "stream",
     "text": [
      "Czy jest graczem: 1\n",
      "Płeć: 2\n",
      "Typy gier: Unturned, league of legends, civilization 6\n",
      "Identyfikator osoby: s.58dd59e5-94b0-4818-b05e-694c267d30d8.txt\n",
      "Typologia osoby: [1.0, 2.0, 6.0, 3.0, 3.0, 5.0, 3.0, 5.0, 3.0, 3.0, 5.0, 6.0, 1.0, 2.0, 2.0, 5.0, 2.0, 5.0]\n",
      "Wartości dla poszczególnych typów: [9, 5, 6, 8]\n",
      "Typ gracza: 1\n",
      "-*--*--*--*--*--*--*--*--*--*--*--*--*--*--*--*--*--*--*--*-\n",
      "n_back test:\n",
      "Średni adekwatność reakcji: 1.0\n",
      "Średni czas reakcji: 1014.6875\n",
      "Procent dopasowanych: 26.666666666666668%\n",
      "Procent nietrafionych: 0.0%\n",
      "Procent fałszywie zgłoszonych: 0.0%\n",
      "-*--*--*--*--*--*--*--*--*--*--*--*--*--*--*--*--*--*--*--*-\n",
      "stroop test:\n",
      "Wszystkie próby:\n",
      "\tŚrednia adekwatność reakcji: 96.0\n",
      "\tŚredni Czas reakcji: 770.38\n",
      "Próby zgodne:\n",
      "\tŚrednia adekwatność reakcji: 100.0\n",
      "\tŚredni Czas reakcji: 694.8235294117648\n",
      "Próby niezgodne:\n",
      "\tŚrednia adekwatność reakcji: 93.93939393939394\n",
      "\tŚredni czas reakcji: 809.3030303030303\n",
      "-*--*--*--*--*--*--*--*--*--*--*--*--*--*--*--*--*--*--*--*-\n",
      "attention test:\n",
      "[(959.0416666666666, 100.0), (662.1666666666666, 100.0), (1060.0, 100.0), (1064.857142857143, 100.0), (1048.3333333333333, 100.0)]\n",
      "Ogólny wynik:\n",
      "\tŚredni czas reakcji: 959.0416666666666\n",
      "\tŚredni rezultat reakcji: 100.0\n",
      "Wynik przy 5 dystraktorach:\n",
      "\tŚredni czas reakcji: 662.1666666666666\n",
      "\tŚredni rezultat reakcji: 100.0\n",
      "Wynik przy 10 dystraktorach:\n",
      "\tŚredni czas reakcji: 1060.0\n",
      "\tProcentowy rezultat reakcji: 100.0\n",
      "Wynik przy 15 dystraktorach:\n",
      "\tŚredni czas reakcji: 1064.857142857143\n",
      "\tProcentowy rezultat reakcji: 100.0\n",
      "Wynik przy 20 dystraktorach:\n",
      "\tŚredni czas reakcji: 1048.3333333333333\n",
      "\tProcentowy rezultat reakcji: 100.0\n"
     ]
    }
   ],
   "source": [
    "#Prezentacja\n",
    "show_player(\"s.58dd59e5-94b0-4818-b05e-694c267d30d8.txt\", players)"
   ]
  },
  {
   "cell_type": "code",
   "execution_count": 36,
   "metadata": {},
   "outputs": [],
   "source": [
    "file = open(\"./results/processed_gamers_and_non_gamers_results.csv\", \"w\", encoding=\"utf-8\")\n",
    "file_gamers_only = open(\"./results/processed_gamers_results.csv\", \"w\", encoding=\"utf-8\")\n",
    "file_nonGamers_only = open(\"./results/processed_non_gamers_results.csv\", \"w\", encoding=\"utf-8\")\n",
    "delimiter = \";\"\n",
    "example_dict = players[0].test_result\n",
    "header = []\n",
    "for key in example_dict:\n",
    "    if key == \"attention_reaction_time_avg\" or key == \"attention_status_prcnt\":\n",
    "        header.append(key)\n",
    "        for i in [5, 10, 15, 20]:\n",
    "            header.append(key + \"_{}_dist\".format(i))\n",
    "    elif key == \"typology\":\n",
    "        header.extend(typology_column_names)\n",
    "    elif key == \"player_type_values\":\n",
    "        header.extend(player_types_column_names_SV)\n",
    "    else:\n",
    "        header.append(key)\n",
    "files = [file, file_gamers_only, file_nonGamers_only]\n",
    "for f in files:\n",
    "    f.write(delimiter.join(header) + \"\\n\")\n",
    "for player in players:\n",
    "    player_info = ([player.test_result[\"id\"]])\n",
    "    for id, result in enumerate(list(player.test_result.values())[1:]):\n",
    "        if (type(result) is list):\n",
    "            for res in result:\n",
    "                player_info.append(str(res).replace(\".\",\",\"))\n",
    "        else:\n",
    "            player_info.append(str(result).replace(\".\",\",\"))\n",
    "    player_info = delimiter.join(player_info) + \"\\n\"\n",
    "    if player.test_result[\"if_gamer\"]:\n",
    "        file_gamers_only.write(player_info)\n",
    "    else:\n",
    "        file_nonGamers_only.write(player_info)\n",
    "    file.write(player_info)\n",
    "for f in files:\n",
    "    f.close()"
   ]
  }
 ],
 "metadata": {
  "kernelspec": {
   "display_name": "Python 3",
   "language": "python",
   "name": "python3"
  },
  "language_info": {
   "codemirror_mode": {
    "name": "ipython",
    "version": 3
   },
   "file_extension": ".py",
   "mimetype": "text/x-python",
   "name": "python",
   "nbconvert_exporter": "python",
   "pygments_lexer": "ipython3",
   "version": "3.8.3"
  }
 },
 "nbformat": 4,
 "nbformat_minor": 4
}
